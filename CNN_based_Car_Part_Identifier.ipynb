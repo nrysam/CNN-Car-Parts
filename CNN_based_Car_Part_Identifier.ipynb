{
  "cells": [
    {
      "cell_type": "markdown",
      "metadata": {
        "id": "view-in-github",
        "colab_type": "text"
      },
      "source": [
        "<a href=\"https://colab.research.google.com/github/nrysam/CNN-Car-Parts/blob/main/CNN_based_Car_Part_Identifier.ipynb\" target=\"_parent\"><img src=\"https://colab.research.google.com/assets/colab-badge.svg\" alt=\"Open In Colab\"/></a>"
      ]
    },
    {
      "cell_type": "code",
      "execution_count": 1,
      "metadata": {
        "id": "tUebjQzt61WW"
      },
      "outputs": [],
      "source": [
        "#import necessary libraries\n",
        "import numpy as np\n",
        "import tensorflow as tf\n",
        "import matplotlib.pyplot as plt\n",
        "import seaborn as sns\n",
        "from tensorflow.keras.preprocessing.image import ImageDataGenerator"
      ]
    },
    {
      "cell_type": "code",
      "execution_count": 2,
      "metadata": {
        "colab": {
          "base_uri": "https://localhost:8080/"
        },
        "id": "fTpWfby6NlIZ",
        "outputId": "7d97ac51-1634-4ed7-85d7-3f50a4d93bec"
      },
      "outputs": [
        {
          "output_type": "stream",
          "name": "stdout",
          "text": [
            "/usr/local/lib/python3.10/dist-packages/gdown/__main__.py:132: FutureWarning: Option `--id` was deprecated in version 4.3.1 and will be removed in 5.0. You don't need to pass it anymore to use a file ID.\n",
            "  warnings.warn(\n",
            "Downloading...\n",
            "From (original): https://drive.google.com/uc?id=1oO2A6mmoOYRQsrVXvJUdCCvdiJMvPbK2\n",
            "From (redirected): https://drive.google.com/uc?id=1oO2A6mmoOYRQsrVXvJUdCCvdiJMvPbK2&confirm=t&uuid=2f1e7f45-41ff-4479-87b0-a1ed7c5ef8d8\n",
            "To: /content/car parts 50.zip\n",
            "100% 150M/150M [00:01<00:00, 79.8MB/s]\n"
          ]
        }
      ],
      "source": [
        "# Get the dataset\n",
        "!gdown --id 1oO2A6mmoOYRQsrVXvJUdCCvdiJMvPbK2"
      ]
    },
    {
      "cell_type": "code",
      "execution_count": 3,
      "metadata": {
        "id": "E-T3Zte6yYuk"
      },
      "outputs": [],
      "source": [
        "# Unzip the dataset\n",
        "!unzip -q 'car parts 50.zip' -d dataset"
      ]
    },
    {
      "cell_type": "code",
      "execution_count": 4,
      "metadata": {
        "id": "Om4vK6j7z91F"
      },
      "outputs": [],
      "source": [
        "#define the training, validation, testing base directories\n",
        "train_dir = 'dataset/car parts 50/train'\n",
        "validation_dir = 'dataset/car parts 50/valid'\n",
        "test_dir = 'dataset/car parts 50/test'"
      ]
    },
    {
      "cell_type": "code",
      "execution_count": 5,
      "metadata": {
        "id": "JcjjVs-QXqZY"
      },
      "outputs": [],
      "source": [
        "#Define Target Size, Batch Size, and Class for Generators\n",
        "TARGET_SIZE = (150,150)\n",
        "BATCH_SIZE = 32\n",
        "CLASS_MODE = 'sparse'"
      ]
    },
    {
      "cell_type": "code",
      "execution_count": 6,
      "metadata": {
        "id": "Bz7xYGT_2P8S"
      },
      "outputs": [],
      "source": [
        "def train_val_test_generators(TRAINING_DIR, VALIDATION_DIR, TESTING_DIR):\n",
        "  \"\"\"\n",
        "  Creates the training and validation data generators\n",
        "\n",
        "  Args:\n",
        "    TRAINING_DIR (string): directory path containing the training images\n",
        "    VALIDATION_DIR (string): directory path containing the validation images\n",
        "    TESTING_DIR (string): directory path containing the testing images\n",
        "  Returns:\n",
        "    train_generator, validation_generator, testing_generator: tuple containing the generators\n",
        "  \"\"\"\n",
        "  # Instantiate the ImageDataGenerator class for the training dataset with augmentation\n",
        "  train_datagen = ImageDataGenerator(\n",
        "      rescale = 1./255,\n",
        "      rotation_range = 40,\n",
        "      width_shift_range=.2,\n",
        "      height_shift_range=.2,\n",
        "      shear_range=.2,\n",
        "      zoom_range=.2,\n",
        "      horizontal_flip=True,\n",
        "      fill_mode='nearest'\n",
        "  )\n",
        "\n",
        "  # Pass in the appropriate arguments to the flow_from_directory method\n",
        "  train_generator = train_datagen.flow_from_directory(\n",
        "      TRAINING_DIR,\n",
        "      target_size= TARGET_SIZE,\n",
        "      batch_size = BATCH_SIZE,\n",
        "      class_mode = CLASS_MODE\n",
        "  )\n",
        "\n",
        "  # Instantiate the ImageDataGenerator class for the validation dataset\n",
        "  validation_datagen = ImageDataGenerator(rescale = 1./255)\n",
        "\n",
        "  # Pass in the appropriate arguments to the flow_from_directory method\n",
        "  validation_generator = validation_datagen.flow_from_directory(\n",
        "      VALIDATION_DIR,\n",
        "      target_size= TARGET_SIZE,\n",
        "      batch_size = BATCH_SIZE,\n",
        "      class_mode = CLASS_MODE\n",
        "  )\n",
        "\n",
        "  # Instantiate the ImageDataGenerator class for the testing dataset\n",
        "  test_datagen = ImageDataGenerator(rescale=1./255)\n",
        "\n",
        "  # Pass in the appropriate arguments to the flow_from_directory method\n",
        "  test_generator = test_datagen.flow_from_directory(\n",
        "      TESTING_DIR,\n",
        "      target_size= TARGET_SIZE,\n",
        "      batch_size = BATCH_SIZE,\n",
        "      class_mode = CLASS_MODE,\n",
        "      shuffle = False\n",
        "  )\n",
        "\n",
        "  return train_generator, validation_generator, test_generator"
      ]
    },
    {
      "cell_type": "code",
      "execution_count": 7,
      "metadata": {
        "colab": {
          "base_uri": "https://localhost:8080/"
        },
        "id": "9rkgoO8YXUk9",
        "outputId": "74d7a540-0bb8-4780-82ba-4342d8c100f1"
      },
      "outputs": [
        {
          "output_type": "stream",
          "name": "stdout",
          "text": [
            "Found 8739 images belonging to 50 classes.\n",
            "Found 250 images belonging to 50 classes.\n",
            "Found 250 images belonging to 50 classes.\n"
          ]
        }
      ],
      "source": [
        "train_generator, validation_generator, test_generator = train_val_test_generators(train_dir, validation_dir, test_dir)"
      ]
    },
    {
      "cell_type": "code",
      "execution_count": 8,
      "metadata": {
        "id": "oJE-lGhn9Nlb"
      },
      "outputs": [],
      "source": [
        "#Define the model\n",
        "\n",
        "def create_model():\n",
        "    model = tf.keras.models.Sequential([\n",
        "        tf.keras.layers.Conv2D(32, (3, 3), activation='relu', input_shape=(150, 150, 3)),\n",
        "        tf.keras.layers.MaxPooling2D(2, 2),\n",
        "        tf.keras.layers.Conv2D(64, (3, 3), activation='relu'),\n",
        "        tf.keras.layers.MaxPooling2D(2, 2),\n",
        "        tf.keras.layers.Conv2D(128, (3, 3), activation='relu'),\n",
        "        tf.keras.layers.MaxPooling2D(2, 2),\n",
        "        tf.keras.layers.Flatten(),\n",
        "        tf.keras.layers.Dense(512, activation='relu'),\n",
        "        tf.keras.layers.Dropout(0.5),\n",
        "        tf.keras.layers.Dense(50, activation='softmax')\n",
        "    ])\n",
        "\n",
        "    model.compile(optimizer='adam',\n",
        "                  loss='sparse_categorical_crossentropy',\n",
        "                  metrics=['acc'])\n",
        "\n",
        "    return model"
      ]
    },
    {
      "cell_type": "code",
      "execution_count": 9,
      "metadata": {
        "id": "gGuy4E6-6VYZ"
      },
      "outputs": [],
      "source": [
        "from sklearn.utils.class_weight import compute_class_weight\n",
        "\n",
        "# Calculate class weights for unbalanced training data\n",
        "classes = np.unique(train_generator.classes)\n",
        "class_weights = compute_class_weight(class_weight='balanced', classes=classes, y=train_generator.classes)\n",
        "class_weights_dict = dict(zip(classes, class_weights))"
      ]
    },
    {
      "cell_type": "code",
      "execution_count": 10,
      "metadata": {
        "id": "5SsBOi_B9Ocd"
      },
      "outputs": [],
      "source": [
        "#Add callbacks\n",
        "checkpoint = tf.keras.callbacks.ModelCheckpoint(\n",
        "    'best_model.h5',\n",
        "    monitor='val_acc',\n",
        "    verbose=1,\n",
        "    save_best_only=True,\n",
        "    mode='max'\n",
        ")\n",
        "\n",
        "early_stopping = tf.keras.callbacks.EarlyStopping(\n",
        "    monitor='val_acc',\n",
        "    patience=10,\n",
        "    verbose=1,\n",
        "    restore_best_weights=True\n",
        ")"
      ]
    },
    {
      "cell_type": "code",
      "execution_count": 11,
      "metadata": {
        "colab": {
          "base_uri": "https://localhost:8080/"
        },
        "id": "IbpOSKt2985U",
        "outputId": "86268d60-09a2-4a5b-c7b7-2f414a277759"
      },
      "outputs": [
        {
          "output_type": "stream",
          "name": "stdout",
          "text": [
            "Epoch 1/100\n",
            "274/274 [==============================] - ETA: 0s - loss: 3.8236 - acc: 0.0502\n",
            "Epoch 1: val_acc improved from -inf to 0.10000, saving model to best_model.h5\n"
          ]
        },
        {
          "output_type": "stream",
          "name": "stderr",
          "text": [
            "/usr/local/lib/python3.10/dist-packages/keras/src/engine/training.py:3103: UserWarning: You are saving your model as an HDF5 file via `model.save()`. This file format is considered legacy. We recommend using instead the native Keras format, e.g. `model.save('my_model.keras')`.\n",
            "  saving_api.save_model(\n"
          ]
        },
        {
          "output_type": "stream",
          "name": "stdout",
          "text": [
            "\b\b\b\b\b\b\b\b\b\b\b\b\b\b\b\b\b\b\b\b\b\b\b\b\b\b\b\b\b\b\b\b\b\b\b\b\b\b\b\b\b\b\b\b\b\b\b\b\b\b\b\b\b\b\b\b\b\b\b\b\b\b\b\b\b\b\b\b\b\b\b\b\b\b\b\b\b\b\b\r274/274 [==============================] - 70s 206ms/step - loss: 3.8236 - acc: 0.0502 - val_loss: 3.6067 - val_acc: 0.1000\n",
            "Epoch 2/100\n",
            "274/274 [==============================] - ETA: 0s - loss: 3.5017 - acc: 0.1036\n",
            "Epoch 2: val_acc improved from 0.10000 to 0.16400, saving model to best_model.h5\n",
            "274/274 [==============================] - 58s 211ms/step - loss: 3.5017 - acc: 0.1036 - val_loss: 3.0604 - val_acc: 0.1640\n",
            "Epoch 3/100\n",
            "274/274 [==============================] - ETA: 0s - loss: 3.0982 - acc: 0.1798\n",
            "Epoch 3: val_acc improved from 0.16400 to 0.26800, saving model to best_model.h5\n",
            "274/274 [==============================] - 60s 219ms/step - loss: 3.0982 - acc: 0.1798 - val_loss: 2.7230 - val_acc: 0.2680\n",
            "Epoch 4/100\n",
            "274/274 [==============================] - ETA: 0s - loss: 2.8716 - acc: 0.2340\n",
            "Epoch 4: val_acc improved from 0.26800 to 0.36400, saving model to best_model.h5\n",
            "274/274 [==============================] - 58s 211ms/step - loss: 2.8716 - acc: 0.2340 - val_loss: 2.3765 - val_acc: 0.3640\n",
            "Epoch 5/100\n",
            "274/274 [==============================] - ETA: 0s - loss: 2.6528 - acc: 0.2831\n",
            "Epoch 5: val_acc did not improve from 0.36400\n",
            "274/274 [==============================] - 54s 199ms/step - loss: 2.6528 - acc: 0.2831 - val_loss: 2.5134 - val_acc: 0.3440\n",
            "Epoch 6/100\n",
            "274/274 [==============================] - ETA: 0s - loss: 2.5423 - acc: 0.3078\n",
            "Epoch 6: val_acc improved from 0.36400 to 0.42400, saving model to best_model.h5\n",
            "274/274 [==============================] - 58s 213ms/step - loss: 2.5423 - acc: 0.3078 - val_loss: 2.0534 - val_acc: 0.4240\n",
            "Epoch 7/100\n",
            "274/274 [==============================] - ETA: 0s - loss: 2.4114 - acc: 0.3427\n",
            "Epoch 7: val_acc improved from 0.42400 to 0.43200, saving model to best_model.h5\n",
            "274/274 [==============================] - 59s 214ms/step - loss: 2.4114 - acc: 0.3427 - val_loss: 2.2495 - val_acc: 0.4320\n",
            "Epoch 8/100\n",
            "274/274 [==============================] - ETA: 0s - loss: 2.3005 - acc: 0.3605\n",
            "Epoch 8: val_acc improved from 0.43200 to 0.48800, saving model to best_model.h5\n",
            "274/274 [==============================] - 59s 216ms/step - loss: 2.3005 - acc: 0.3605 - val_loss: 1.9205 - val_acc: 0.4880\n",
            "Epoch 9/100\n",
            "274/274 [==============================] - ETA: 0s - loss: 2.2158 - acc: 0.3852\n",
            "Epoch 9: val_acc did not improve from 0.48800\n",
            "274/274 [==============================] - 55s 199ms/step - loss: 2.2158 - acc: 0.3852 - val_loss: 1.9979 - val_acc: 0.4480\n",
            "Epoch 10/100\n",
            "274/274 [==============================] - ETA: 0s - loss: 2.1315 - acc: 0.4061\n",
            "Epoch 10: val_acc did not improve from 0.48800\n",
            "274/274 [==============================] - 53s 193ms/step - loss: 2.1315 - acc: 0.4061 - val_loss: 1.9427 - val_acc: 0.4760\n",
            "Epoch 11/100\n",
            "274/274 [==============================] - ETA: 0s - loss: 2.0942 - acc: 0.4134\n",
            "Epoch 11: val_acc improved from 0.48800 to 0.53200, saving model to best_model.h5\n",
            "274/274 [==============================] - 55s 200ms/step - loss: 2.0942 - acc: 0.4134 - val_loss: 1.7375 - val_acc: 0.5320\n",
            "Epoch 12/100\n",
            "274/274 [==============================] - ETA: 0s - loss: 2.0464 - acc: 0.4273\n",
            "Epoch 12: val_acc improved from 0.53200 to 0.55200, saving model to best_model.h5\n",
            "274/274 [==============================] - 60s 219ms/step - loss: 2.0464 - acc: 0.4273 - val_loss: 1.6729 - val_acc: 0.5520\n",
            "Epoch 13/100\n",
            "274/274 [==============================] - ETA: 0s - loss: 1.9703 - acc: 0.4428\n",
            "Epoch 13: val_acc did not improve from 0.55200\n",
            "274/274 [==============================] - 55s 201ms/step - loss: 1.9703 - acc: 0.4428 - val_loss: 1.6025 - val_acc: 0.5400\n",
            "Epoch 14/100\n",
            "274/274 [==============================] - ETA: 0s - loss: 1.9663 - acc: 0.4493\n",
            "Epoch 14: val_acc did not improve from 0.55200\n",
            "274/274 [==============================] - 54s 198ms/step - loss: 1.9663 - acc: 0.4493 - val_loss: 1.7072 - val_acc: 0.5520\n",
            "Epoch 15/100\n",
            "274/274 [==============================] - ETA: 0s - loss: 1.9196 - acc: 0.4565\n",
            "Epoch 15: val_acc did not improve from 0.55200\n",
            "274/274 [==============================] - 54s 196ms/step - loss: 1.9196 - acc: 0.4565 - val_loss: 1.7234 - val_acc: 0.5440\n",
            "Epoch 16/100\n",
            "274/274 [==============================] - ETA: 0s - loss: 1.8763 - acc: 0.4684\n",
            "Epoch 16: val_acc improved from 0.55200 to 0.60400, saving model to best_model.h5\n",
            "274/274 [==============================] - 61s 221ms/step - loss: 1.8763 - acc: 0.4684 - val_loss: 1.4907 - val_acc: 0.6040\n",
            "Epoch 17/100\n",
            "274/274 [==============================] - ETA: 0s - loss: 1.8195 - acc: 0.4842\n",
            "Epoch 17: val_acc improved from 0.60400 to 0.62400, saving model to best_model.h5\n",
            "274/274 [==============================] - 59s 216ms/step - loss: 1.8195 - acc: 0.4842 - val_loss: 1.5658 - val_acc: 0.6240\n",
            "Epoch 18/100\n",
            "274/274 [==============================] - ETA: 0s - loss: 1.8468 - acc: 0.4845\n",
            "Epoch 18: val_acc did not improve from 0.62400\n",
            "274/274 [==============================] - 54s 196ms/step - loss: 1.8468 - acc: 0.4845 - val_loss: 1.5954 - val_acc: 0.5640\n",
            "Epoch 19/100\n",
            "274/274 [==============================] - ETA: 0s - loss: 1.8004 - acc: 0.4863\n",
            "Epoch 19: val_acc did not improve from 0.62400\n",
            "274/274 [==============================] - 56s 205ms/step - loss: 1.8004 - acc: 0.4863 - val_loss: 1.8023 - val_acc: 0.4920\n",
            "Epoch 20/100\n",
            "274/274 [==============================] - ETA: 0s - loss: 1.7614 - acc: 0.4975\n",
            "Epoch 20: val_acc did not improve from 0.62400\n",
            "274/274 [==============================] - 55s 201ms/step - loss: 1.7614 - acc: 0.4975 - val_loss: 1.5017 - val_acc: 0.5960\n",
            "Epoch 21/100\n",
            "274/274 [==============================] - ETA: 0s - loss: 1.7366 - acc: 0.5126\n",
            "Epoch 21: val_acc did not improve from 0.62400\n",
            "274/274 [==============================] - 54s 197ms/step - loss: 1.7366 - acc: 0.5126 - val_loss: 1.5362 - val_acc: 0.5960\n",
            "Epoch 22/100\n",
            "274/274 [==============================] - ETA: 0s - loss: 1.7440 - acc: 0.5018\n",
            "Epoch 22: val_acc did not improve from 0.62400\n",
            "274/274 [==============================] - 55s 200ms/step - loss: 1.7440 - acc: 0.5018 - val_loss: 1.4852 - val_acc: 0.6000\n",
            "Epoch 23/100\n",
            "274/274 [==============================] - ETA: 0s - loss: 1.7129 - acc: 0.5149\n",
            "Epoch 23: val_acc did not improve from 0.62400\n",
            "274/274 [==============================] - 54s 199ms/step - loss: 1.7129 - acc: 0.5149 - val_loss: 1.5862 - val_acc: 0.6040\n",
            "Epoch 24/100\n",
            "274/274 [==============================] - ETA: 0s - loss: 1.6773 - acc: 0.5229\n",
            "Epoch 24: val_acc did not improve from 0.62400\n",
            "274/274 [==============================] - 54s 198ms/step - loss: 1.6773 - acc: 0.5229 - val_loss: 1.5298 - val_acc: 0.6080\n",
            "Epoch 25/100\n",
            "274/274 [==============================] - ETA: 0s - loss: 1.6681 - acc: 0.5239\n",
            "Epoch 25: val_acc improved from 0.62400 to 0.63200, saving model to best_model.h5\n",
            "274/274 [==============================] - 61s 223ms/step - loss: 1.6681 - acc: 0.5239 - val_loss: 1.4571 - val_acc: 0.6320\n",
            "Epoch 26/100\n",
            "274/274 [==============================] - ETA: 0s - loss: 1.6259 - acc: 0.5299\n",
            "Epoch 26: val_acc did not improve from 0.63200\n",
            "274/274 [==============================] - 54s 197ms/step - loss: 1.6259 - acc: 0.5299 - val_loss: 1.4297 - val_acc: 0.6320\n",
            "Epoch 27/100\n",
            "274/274 [==============================] - ETA: 0s - loss: 1.6321 - acc: 0.5316\n",
            "Epoch 27: val_acc did not improve from 0.63200\n",
            "274/274 [==============================] - 54s 199ms/step - loss: 1.6321 - acc: 0.5316 - val_loss: 1.6337 - val_acc: 0.6280\n",
            "Epoch 28/100\n",
            "274/274 [==============================] - ETA: 0s - loss: 1.5920 - acc: 0.5446\n",
            "Epoch 28: val_acc improved from 0.63200 to 0.64000, saving model to best_model.h5\n",
            "274/274 [==============================] - 62s 227ms/step - loss: 1.5920 - acc: 0.5446 - val_loss: 1.5167 - val_acc: 0.6400\n",
            "Epoch 29/100\n",
            "274/274 [==============================] - ETA: 0s - loss: 1.5810 - acc: 0.5400\n",
            "Epoch 29: val_acc did not improve from 0.64000\n",
            "274/274 [==============================] - 55s 200ms/step - loss: 1.5810 - acc: 0.5400 - val_loss: 1.6165 - val_acc: 0.5840\n",
            "Epoch 30/100\n",
            "274/274 [==============================] - ETA: 0s - loss: 1.5730 - acc: 0.5456\n",
            "Epoch 30: val_acc did not improve from 0.64000\n",
            "274/274 [==============================] - 56s 205ms/step - loss: 1.5730 - acc: 0.5456 - val_loss: 1.5054 - val_acc: 0.6040\n",
            "Epoch 31/100\n",
            "274/274 [==============================] - ETA: 0s - loss: 1.5765 - acc: 0.5464\n",
            "Epoch 31: val_acc did not improve from 0.64000\n",
            "274/274 [==============================] - 54s 198ms/step - loss: 1.5765 - acc: 0.5464 - val_loss: 1.6373 - val_acc: 0.5800\n",
            "Epoch 32/100\n",
            "274/274 [==============================] - ETA: 0s - loss: 1.5744 - acc: 0.5545\n",
            "Epoch 32: val_acc did not improve from 0.64000\n",
            "274/274 [==============================] - 56s 203ms/step - loss: 1.5744 - acc: 0.5545 - val_loss: 1.5389 - val_acc: 0.6040\n",
            "Epoch 33/100\n",
            "274/274 [==============================] - ETA: 0s - loss: 1.5401 - acc: 0.5578\n",
            "Epoch 33: val_acc improved from 0.64000 to 0.65200, saving model to best_model.h5\n",
            "274/274 [==============================] - 58s 211ms/step - loss: 1.5401 - acc: 0.5578 - val_loss: 1.3814 - val_acc: 0.6520\n",
            "Epoch 34/100\n",
            "274/274 [==============================] - ETA: 0s - loss: 1.5049 - acc: 0.5639\n",
            "Epoch 34: val_acc did not improve from 0.65200\n",
            "274/274 [==============================] - 54s 198ms/step - loss: 1.5049 - acc: 0.5639 - val_loss: 1.4872 - val_acc: 0.6000\n",
            "Epoch 35/100\n",
            "274/274 [==============================] - ETA: 0s - loss: 1.5321 - acc: 0.5644\n",
            "Epoch 35: val_acc did not improve from 0.65200\n",
            "274/274 [==============================] - 56s 205ms/step - loss: 1.5321 - acc: 0.5644 - val_loss: 1.4831 - val_acc: 0.6400\n",
            "Epoch 36/100\n",
            "274/274 [==============================] - ETA: 0s - loss: 1.4986 - acc: 0.5638\n",
            "Epoch 36: val_acc did not improve from 0.65200\n",
            "274/274 [==============================] - 56s 203ms/step - loss: 1.4986 - acc: 0.5638 - val_loss: 1.6181 - val_acc: 0.6080\n",
            "Epoch 37/100\n",
            "274/274 [==============================] - ETA: 0s - loss: 1.4880 - acc: 0.5646\n",
            "Epoch 37: val_acc did not improve from 0.65200\n",
            "274/274 [==============================] - 56s 203ms/step - loss: 1.4880 - acc: 0.5646 - val_loss: 1.4928 - val_acc: 0.6400\n",
            "Epoch 38/100\n",
            "274/274 [==============================] - ETA: 0s - loss: 1.4781 - acc: 0.5752\n",
            "Epoch 38: val_acc did not improve from 0.65200\n",
            "274/274 [==============================] - 55s 202ms/step - loss: 1.4781 - acc: 0.5752 - val_loss: 1.4866 - val_acc: 0.6160\n",
            "Epoch 39/100\n",
            "274/274 [==============================] - ETA: 0s - loss: 1.4863 - acc: 0.5701\n",
            "Epoch 39: val_acc improved from 0.65200 to 0.66000, saving model to best_model.h5\n",
            "274/274 [==============================] - 60s 218ms/step - loss: 1.4863 - acc: 0.5701 - val_loss: 1.3687 - val_acc: 0.6600\n",
            "Epoch 40/100\n",
            "274/274 [==============================] - ETA: 0s - loss: 1.4520 - acc: 0.5805\n",
            "Epoch 40: val_acc did not improve from 0.66000\n",
            "274/274 [==============================] - 56s 203ms/step - loss: 1.4520 - acc: 0.5805 - val_loss: 1.4176 - val_acc: 0.6160\n",
            "Epoch 41/100\n",
            "274/274 [==============================] - ETA: 0s - loss: 1.4592 - acc: 0.5773\n",
            "Epoch 41: val_acc did not improve from 0.66000\n",
            "274/274 [==============================] - 56s 205ms/step - loss: 1.4592 - acc: 0.5773 - val_loss: 1.4181 - val_acc: 0.6240\n",
            "Epoch 42/100\n",
            "274/274 [==============================] - ETA: 0s - loss: 1.4507 - acc: 0.5781\n",
            "Epoch 42: val_acc did not improve from 0.66000\n",
            "274/274 [==============================] - 56s 203ms/step - loss: 1.4507 - acc: 0.5781 - val_loss: 1.4579 - val_acc: 0.6480\n",
            "Epoch 43/100\n",
            "274/274 [==============================] - ETA: 0s - loss: 1.4466 - acc: 0.5832\n",
            "Epoch 43: val_acc did not improve from 0.66000\n",
            "274/274 [==============================] - 55s 202ms/step - loss: 1.4466 - acc: 0.5832 - val_loss: 1.4654 - val_acc: 0.6320\n",
            "Epoch 44/100\n",
            "274/274 [==============================] - ETA: 0s - loss: 1.4281 - acc: 0.5830\n",
            "Epoch 44: val_acc did not improve from 0.66000\n",
            "274/274 [==============================] - 54s 198ms/step - loss: 1.4281 - acc: 0.5830 - val_loss: 1.4422 - val_acc: 0.6600\n",
            "Epoch 45/100\n",
            "274/274 [==============================] - ETA: 0s - loss: 1.4191 - acc: 0.5893\n",
            "Epoch 45: val_acc did not improve from 0.66000\n",
            "274/274 [==============================] - 56s 206ms/step - loss: 1.4191 - acc: 0.5893 - val_loss: 1.4447 - val_acc: 0.6240\n",
            "Epoch 46/100\n",
            "274/274 [==============================] - ETA: 0s - loss: 1.4142 - acc: 0.5915\n",
            "Epoch 46: val_acc did not improve from 0.66000\n",
            "274/274 [==============================] - 55s 201ms/step - loss: 1.4142 - acc: 0.5915 - val_loss: 1.3865 - val_acc: 0.6400\n",
            "Epoch 47/100\n",
            "274/274 [==============================] - ETA: 0s - loss: 1.4313 - acc: 0.5859\n",
            "Epoch 47: val_acc improved from 0.66000 to 0.67600, saving model to best_model.h5\n",
            "274/274 [==============================] - 61s 223ms/step - loss: 1.4313 - acc: 0.5859 - val_loss: 1.3027 - val_acc: 0.6760\n",
            "Epoch 48/100\n",
            "274/274 [==============================] - ETA: 0s - loss: 1.3954 - acc: 0.5873\n",
            "Epoch 48: val_acc did not improve from 0.67600\n",
            "274/274 [==============================] - 54s 197ms/step - loss: 1.3954 - acc: 0.5873 - val_loss: 1.5192 - val_acc: 0.6160\n",
            "Epoch 49/100\n",
            "274/274 [==============================] - ETA: 0s - loss: 1.3915 - acc: 0.5926\n",
            "Epoch 49: val_acc did not improve from 0.67600\n",
            "274/274 [==============================] - 56s 203ms/step - loss: 1.3915 - acc: 0.5926 - val_loss: 1.5381 - val_acc: 0.6560\n",
            "Epoch 50/100\n",
            "274/274 [==============================] - ETA: 0s - loss: 1.3795 - acc: 0.6011\n",
            "Epoch 50: val_acc did not improve from 0.67600\n",
            "274/274 [==============================] - 54s 196ms/step - loss: 1.3795 - acc: 0.6011 - val_loss: 1.4137 - val_acc: 0.6320\n",
            "Epoch 51/100\n",
            "274/274 [==============================] - ETA: 0s - loss: 1.3812 - acc: 0.6020\n",
            "Epoch 51: val_acc did not improve from 0.67600\n",
            "274/274 [==============================] - 54s 195ms/step - loss: 1.3812 - acc: 0.6020 - val_loss: 1.4661 - val_acc: 0.6360\n",
            "Epoch 52/100\n",
            "274/274 [==============================] - ETA: 0s - loss: 1.3656 - acc: 0.5993\n",
            "Epoch 52: val_acc improved from 0.67600 to 0.68400, saving model to best_model.h5\n",
            "274/274 [==============================] - 60s 220ms/step - loss: 1.3656 - acc: 0.5993 - val_loss: 1.4103 - val_acc: 0.6840\n",
            "Epoch 53/100\n",
            "274/274 [==============================] - ETA: 0s - loss: 1.3638 - acc: 0.6037\n",
            "Epoch 53: val_acc did not improve from 0.68400\n",
            "274/274 [==============================] - 53s 195ms/step - loss: 1.3638 - acc: 0.6037 - val_loss: 1.3613 - val_acc: 0.6600\n",
            "Epoch 54/100\n",
            "274/274 [==============================] - ETA: 0s - loss: 1.3539 - acc: 0.6051\n",
            "Epoch 54: val_acc did not improve from 0.68400\n",
            "274/274 [==============================] - 55s 201ms/step - loss: 1.3539 - acc: 0.6051 - val_loss: 1.5191 - val_acc: 0.6320\n",
            "Epoch 55/100\n",
            "274/274 [==============================] - ETA: 0s - loss: 1.3296 - acc: 0.6109\n",
            "Epoch 55: val_acc did not improve from 0.68400\n",
            "274/274 [==============================] - 54s 198ms/step - loss: 1.3296 - acc: 0.6109 - val_loss: 1.3181 - val_acc: 0.6680\n",
            "Epoch 56/100\n",
            "274/274 [==============================] - ETA: 0s - loss: 1.3393 - acc: 0.6100\n",
            "Epoch 56: val_acc did not improve from 0.68400\n",
            "274/274 [==============================] - 56s 203ms/step - loss: 1.3393 - acc: 0.6100 - val_loss: 1.4668 - val_acc: 0.6560\n",
            "Epoch 57/100\n",
            "274/274 [==============================] - ETA: 0s - loss: 1.3159 - acc: 0.6107\n",
            "Epoch 57: val_acc did not improve from 0.68400\n",
            "274/274 [==============================] - 54s 197ms/step - loss: 1.3159 - acc: 0.6107 - val_loss: 1.4788 - val_acc: 0.6760\n",
            "Epoch 58/100\n",
            "274/274 [==============================] - ETA: 0s - loss: 1.3272 - acc: 0.6219\n",
            "Epoch 58: val_acc did not improve from 0.68400\n",
            "274/274 [==============================] - 55s 203ms/step - loss: 1.3272 - acc: 0.6219 - val_loss: 1.2916 - val_acc: 0.6640\n",
            "Epoch 59/100\n",
            "274/274 [==============================] - ETA: 0s - loss: 1.3458 - acc: 0.6122\n",
            "Epoch 59: val_acc did not improve from 0.68400\n",
            "274/274 [==============================] - 53s 193ms/step - loss: 1.3458 - acc: 0.6122 - val_loss: 1.3491 - val_acc: 0.6840\n",
            "Epoch 60/100\n",
            "274/274 [==============================] - ETA: 0s - loss: 1.3281 - acc: 0.6168\n",
            "Epoch 60: val_acc did not improve from 0.68400\n",
            "274/274 [==============================] - 54s 198ms/step - loss: 1.3281 - acc: 0.6168 - val_loss: 1.3690 - val_acc: 0.6560\n",
            "Epoch 61/100\n",
            "274/274 [==============================] - ETA: 0s - loss: 1.3314 - acc: 0.6082\n",
            "Epoch 61: val_acc did not improve from 0.68400\n",
            "274/274 [==============================] - 54s 195ms/step - loss: 1.3314 - acc: 0.6082 - val_loss: 1.2896 - val_acc: 0.6800\n",
            "Epoch 62/100\n",
            "274/274 [==============================] - ETA: 0s - loss: 1.3139 - acc: 0.6085\n",
            "Epoch 62: val_acc did not improve from 0.68400\n",
            "Restoring model weights from the end of the best epoch: 52.\n",
            "274/274 [==============================] - 56s 203ms/step - loss: 1.3139 - acc: 0.6085 - val_loss: 1.4479 - val_acc: 0.6640\n",
            "Epoch 62: early stopping\n"
          ]
        }
      ],
      "source": [
        "# Save the model\n",
        "model = create_model()\n",
        "\n",
        "# Train the model\n",
        "history = model.fit(train_generator,\n",
        "                    epochs=100,\n",
        "                    validation_data=validation_generator,\n",
        "                    class_weight=class_weights_dict,\n",
        "                    callbacks=[checkpoint, early_stopping])"
      ]
    },
    {
      "cell_type": "code",
      "execution_count": 12,
      "metadata": {
        "id": "nWcizDyvVEFs",
        "colab": {
          "base_uri": "https://localhost:8080/",
          "height": 887
        },
        "outputId": "c8d9cd05-9a12-445a-a482-247600eccb36"
      },
      "outputs": [
        {
          "output_type": "display_data",
          "data": {
            "text/plain": [
              "<Figure size 640x480 with 1 Axes>"
            ],
            "image/png": "[encoded data removed]"
          },
          "metadata": {}
        },
        {
          "output_type": "display_data",
          "data": {
            "text/plain": [
              "<Figure size 640x480 with 1 Axes>"
            ],
            "image/png": "[encoded data removed]"
          },
          "metadata": {}
        }
      ],
      "source": [
        "# Plot the chart for accuracy and loss on both training and validation\n",
        "acc = history.history['acc']\n",
        "val_acc = history.history['val_acc']\n",
        "loss = history.history['loss']\n",
        "val_loss = history.history['val_loss']\n",
        "\n",
        "epochs = range(len(acc))\n",
        "\n",
        "# Accuracy chart\n",
        "plt.plot(epochs, acc, 'r', label='Training accuracy')\n",
        "plt.plot(epochs, val_acc, 'b', label='Validation accuracy')\n",
        "plt.title('Training and validation accuracy')\n",
        "plt.legend()\n",
        "plt.figure()\n",
        "\n",
        "# Loss chart\n",
        "plt.plot(epochs, loss, 'r', label='Training Loss')\n",
        "plt.plot(epochs, val_loss, 'b', label='Validation Loss')\n",
        "plt.title('Training and validation loss')\n",
        "plt.legend()\n",
        "\n",
        "plt.show()"
      ]
    },
    {
      "cell_type": "code",
      "execution_count": 13,
      "metadata": {
        "colab": {
          "base_uri": "https://localhost:8080/"
        },
        "id": "d9_jnlOiaEGs",
        "outputId": "933759fe-dd87-4be9-f131-05ad44c41b33"
      },
      "outputs": [
        {
          "output_type": "stream",
          "name": "stdout",
          "text": [
            "8/8 [==============================] - 0s 31ms/step - loss: 1.1439 - acc: 0.6920\n",
            "test loss, test acc: [1.1439149379730225, 0.6919999718666077]\n"
          ]
        }
      ],
      "source": [
        "# Evaluate the Model\n",
        "import math\n",
        "\n",
        "test_steps = math.ceil(test_generator.n / test_generator.batch_size)\n",
        "\n",
        "results = model.evaluate(test_generator, steps=test_steps)\n",
        "print('test loss, test acc:', results)"
      ]
    },
    {
      "cell_type": "code",
      "execution_count": 1,
      "metadata": {
        "id": "OvcmSruXaGOF",
        "colab": {
          "base_uri": "https://localhost:8080/",
          "height": 211
        },
        "outputId": "5f22044b-3fae-4102-e064-9ca7627b465d"
      },
      "outputs": [
        {
          "output_type": "error",
          "ename": "NameError",
          "evalue": "name 'model' is not defined",
          "traceback": [
            "\u001b[0;31m---------------------------------------------------------------------------\u001b[0m",
            "\u001b[0;31mNameError\u001b[0m                                 Traceback (most recent call last)",
            "\u001b[0;32m<ipython-input-1-c6ee7a448bb5>\u001b[0m in \u001b[0;36m<cell line: 2>\u001b[0;34m()\u001b[0m\n\u001b[1;32m      1\u001b[0m \u001b[0;31m# Create a prediction from model\u001b[0m\u001b[0;34m\u001b[0m\u001b[0;34m\u001b[0m\u001b[0m\n\u001b[0;32m----> 2\u001b[0;31m \u001b[0mpredictions\u001b[0m \u001b[0;34m=\u001b[0m \u001b[0mmodel\u001b[0m\u001b[0;34m.\u001b[0m\u001b[0mpredict\u001b[0m\u001b[0;34m(\u001b[0m\u001b[0mtest_generator\u001b[0m\u001b[0;34m,\u001b[0m \u001b[0msteps\u001b[0m\u001b[0;34m=\u001b[0m\u001b[0mtest_steps\u001b[0m\u001b[0;34m)\u001b[0m\u001b[0;34m\u001b[0m\u001b[0;34m\u001b[0m\u001b[0m\n\u001b[0m\u001b[1;32m      3\u001b[0m \u001b[0mpredicted_classes\u001b[0m \u001b[0;34m=\u001b[0m \u001b[0mnp\u001b[0m\u001b[0;34m.\u001b[0m\u001b[0margmax\u001b[0m\u001b[0;34m(\u001b[0m\u001b[0mpredictions\u001b[0m\u001b[0;34m,\u001b[0m \u001b[0maxis\u001b[0m\u001b[0;34m=\u001b[0m\u001b[0;36m1\u001b[0m\u001b[0;34m)\u001b[0m\u001b[0;34m\u001b[0m\u001b[0;34m\u001b[0m\u001b[0m\n\u001b[1;32m      4\u001b[0m \u001b[0;34m\u001b[0m\u001b[0m\n\u001b[1;32m      5\u001b[0m \u001b[0;31m# Make sure that predicted_classes and true_classes have the same length\u001b[0m\u001b[0;34m\u001b[0m\u001b[0;34m\u001b[0m\u001b[0m\n",
            "\u001b[0;31mNameError\u001b[0m: name 'model' is not defined"
          ]
        }
      ],
      "source": [
        "# Create a prediction from model\n",
        "predictions = model.predict(test_generator, steps=test_steps)\n",
        "predicted_classes = np.argmax(predictions, axis=1)\n",
        "\n",
        "# Define true_classes and class_labels\n",
        "true_classes = test_generator.classes\n",
        "class_labels = list(test_generator.class_indices.keys())\n",
        "\n",
        "# Make sure that predicted_classes and true_classes have the same length\n",
        "if len(predicted_classes) > len(true_classes):\n",
        "    predicted_classes = predicted_classes[:len(true_classes)]  # Trim predictions to match true_classes length"
      ]
    },
    {
      "cell_type": "code",
      "execution_count": null,
      "metadata": {
        "id": "deGwteftaLD7"
      },
      "outputs": [],
      "source": [
        "# Use scikit-learn to generate a detailed classification report\n",
        "from sklearn.metrics import classification_report\n",
        "\n",
        "print(classification_report(true_classes, predicted_classes, target_names=class_labels))"
      ]
    },
    {
      "cell_type": "code",
      "execution_count": null,
      "metadata": {
        "id": "aLVA0Hn9aPVR"
      },
      "outputs": [],
      "source": [
        "# Add Confusion matrix to visualize the performance across the different classes\n",
        "from sklearn.metrics import confusion_matrix\n",
        "\n",
        "cm = confusion_matrix(true_classes, predicted_classes)\n",
        "plt.figure(figsize=(15,10))\n",
        "sns.heatmap(cm, annot=True, fmt='d', xticklabels=class_labels, yticklabels=class_labels)\n",
        "plt.xlabel('Predicted')\n",
        "plt.ylabel('True')\n",
        "plt.show()"
      ]
    }
  ],
  "metadata": {
    "accelerator": "GPU",
    "colab": {
      "gpuType": "T4",
      "provenance": [],
      "authorship_tag": "ABX9TyMZ8NG9EURVID8/H372fGtT",
      "include_colab_link": true
    },
    "kernelspec": {
      "display_name": "Python 3",
      "name": "python3"
    },
    "language_info": {
      "name": "python"
    }
  },
  "nbformat": 4,
  "nbformat_minor": 0
}